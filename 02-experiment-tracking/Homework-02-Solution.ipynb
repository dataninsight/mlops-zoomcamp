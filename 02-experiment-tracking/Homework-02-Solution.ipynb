{
 "cells": [
  {
   "cell_type": "markdown",
   "id": "4cead4d3-c1e1-44ff-aaba-77fd265db1f6",
   "metadata": {},
   "source": [
    "## 02-experiment-tracking"
   ]
  },
  {
   "cell_type": "markdown",
   "id": "35d40af2-12f2-4f81-aa76-817c9e5eb275",
   "metadata": {},
   "source": [
    "#### The goal of this homework is to get familiar with MLflow, the tool for experiment tracking and model management."
   ]
  },
  {
   "cell_type": "code",
   "execution_count": 1,
   "id": "1a193769-360a-4877-b153-cf8482c0425d",
   "metadata": {},
   "outputs": [],
   "source": [
    "#import required dependency\n",
    "\n",
    "import os\n",
    "import pickle\n",
    "import click\n",
    "import pandas as pd\n",
    "\n",
    "\n",
    "import mlflow\n",
    "import numpy as np\n",
    "import sklearn\n",
    "import seaborn as sns\n",
    "import matplotlib.pyplot as plt\n",
    "\n",
    "from sklearn.feature_extraction import DictVectorizer\n",
    "from sklearn.linear_model import LinearRegression\n",
    "from sklearn.ensemble import RandomForestRegressor\n",
    "from sklearn.metrics import mean_squared_error"
   ]
  },
  {
   "cell_type": "markdown",
   "id": "342a3a5b-006d-41e9-b525-732768ae5faf",
   "metadata": {},
   "source": [
    "#### Q1. Install MLflow"
   ]
  },
  {
   "cell_type": "code",
   "execution_count": 2,
   "id": "46d2843c-5891-4537-9c52-4827be7fea99",
   "metadata": {},
   "outputs": [
    {
     "data": {
      "text/plain": [
       "'2.22.0'"
      ]
     },
     "execution_count": 2,
     "metadata": {},
     "output_type": "execute_result"
    }
   ],
   "source": [
    "mlflow.__version__"
   ]
  },
  {
   "cell_type": "code",
   "execution_count": 3,
   "id": "08042119-2940-4634-97e4-31e22c1913ef",
   "metadata": {},
   "outputs": [],
   "source": [
    "#### Q2. Download and preprocess the data"
   ]
  },
  {
   "cell_type": "code",
   "execution_count": 3,
   "id": "91f7b34f-4036-423a-abfa-f57aa85d9124",
   "metadata": {},
   "outputs": [],
   "source": [
    "mlflow.set_tracking_uri(\"sqlite:///mlflow.db\")"
   ]
  },
  {
   "cell_type": "code",
   "execution_count": 4,
   "id": "4868e90e-218a-45f9-bf9b-f80180c7b8be",
   "metadata": {},
   "outputs": [
    {
     "data": {
      "text/plain": [
       "<Experiment: artifact_location='/workspaces/mlops-zoomcamp/02-experiment-tracking/mlruns/1', creation_time=1748319704231, experiment_id='1', last_update_time=1748319704231, lifecycle_stage='active', name='New York City Taxi Experiment', tags={}>"
      ]
     },
     "execution_count": 4,
     "metadata": {},
     "output_type": "execute_result"
    }
   ],
   "source": [
    "mlflow.set_experiment(\"New York City Taxi Experiment\")"
   ]
  },
  {
   "cell_type": "code",
   "execution_count": 6,
   "id": "74885575-ab0b-4bd2-8540-3eb1c3edb9b4",
   "metadata": {},
   "outputs": [
    {
     "name": "stdout",
     "output_type": "stream",
     "text": [
      "--2025-05-27 05:52:16--  https://d37ci6vzurychx.cloudfront.net/trip-data/yellow_tripdata_2023-01.parquet\n",
      "Resolving d37ci6vzurychx.cloudfront.net (d37ci6vzurychx.cloudfront.net)... 3.164.82.112, 3.164.82.160, 3.164.82.197, ...\n",
      "Connecting to d37ci6vzurychx.cloudfront.net (d37ci6vzurychx.cloudfront.net)|3.164.82.112|:443... connected.\n",
      "HTTP request sent, awaiting response... 200 OK\n",
      "Length: 47673370 (45M) [application/x-www-form-urlencoded]\n",
      "Saving to: ‘TAXI_DATA_FOLDER/yellow_tripdata_2023-01.parquet’\n",
      "\n",
      "yellow_tripdata_202 100%[===================>]  45.46M  24.6MB/s    in 1.8s    \n",
      "\n",
      "2025-05-27 05:52:18 (24.6 MB/s) - ‘TAXI_DATA_FOLDER/yellow_tripdata_2023-01.parquet’ saved [47673370/47673370]\n",
      "\n"
     ]
    }
   ],
   "source": [
    "!wget \"https://d37ci6vzurychx.cloudfront.net/trip-data/yellow_tripdata_2023-01.parquet\" -P TAXI_DATA_FOLDER"
   ]
  },
  {
   "cell_type": "code",
   "execution_count": 7,
   "id": "ecc772ee-3e56-471c-830f-356cd7a196d8",
   "metadata": {},
   "outputs": [
    {
     "name": "stdout",
     "output_type": "stream",
     "text": [
      "--2025-05-27 05:52:19--  https://d37ci6vzurychx.cloudfront.net/trip-data/yellow_tripdata_2023-02.parquet\n",
      "Resolving d37ci6vzurychx.cloudfront.net (d37ci6vzurychx.cloudfront.net)... 3.164.82.197, 3.164.82.112, 3.164.82.40, ...\n",
      "Connecting to d37ci6vzurychx.cloudfront.net (d37ci6vzurychx.cloudfront.net)|3.164.82.197|:443... connected.\n",
      "HTTP request sent, awaiting response... 200 OK\n",
      "Length: 47748012 (46M) [application/x-www-form-urlencoded]\n",
      "Saving to: ‘TAXI_DATA_FOLDER/yellow_tripdata_2023-02.parquet’\n",
      "\n",
      "yellow_tripdata_202 100%[===================>]  45.54M  23.4MB/s    in 1.9s    \n",
      "\n",
      "2025-05-27 05:52:21 (23.4 MB/s) - ‘TAXI_DATA_FOLDER/yellow_tripdata_2023-02.parquet’ saved [47748012/47748012]\n",
      "\n"
     ]
    }
   ],
   "source": [
    "!wget \"https://d37ci6vzurychx.cloudfront.net/trip-data/yellow_tripdata_2023-02.parquet\" -P TAXI_DATA_FOLDER"
   ]
  },
  {
   "cell_type": "code",
   "execution_count": 8,
   "id": "b0e8b719-88b5-484a-9a72-bf3c38cadbdd",
   "metadata": {},
   "outputs": [
    {
     "name": "stdout",
     "output_type": "stream",
     "text": [
      "--2025-05-27 05:52:21--  https://d37ci6vzurychx.cloudfront.net/trip-data/yellow_tripdata_2023-03.parquet\n",
      "Resolving d37ci6vzurychx.cloudfront.net (d37ci6vzurychx.cloudfront.net)... 3.164.82.160, 3.164.82.40, 3.164.82.197, ...\n",
      "Connecting to d37ci6vzurychx.cloudfront.net (d37ci6vzurychx.cloudfront.net)|3.164.82.160|:443... connected.\n",
      "HTTP request sent, awaiting response... 200 OK\n",
      "Length: 56127762 (54M) [binary/octet-stream]\n",
      "Saving to: ‘TAXI_DATA_FOLDER/yellow_tripdata_2023-03.parquet’\n",
      "\n",
      "yellow_tripdata_202 100%[===================>]  53.53M  25.7MB/s    in 2.1s    \n",
      "\n",
      "2025-05-27 05:52:24 (25.7 MB/s) - ‘TAXI_DATA_FOLDER/yellow_tripdata_2023-03.parquet’ saved [56127762/56127762]\n",
      "\n"
     ]
    }
   ],
   "source": [
    "!wget \"https://d37ci6vzurychx.cloudfront.net/trip-data/yellow_tripdata_2023-03.parquet\" -P TAXI_DATA_FOLDER"
   ]
  },
  {
   "cell_type": "code",
   "execution_count": 5,
   "id": "3dfbadce-d287-4b00-8f38-e90bc9bfac07",
   "metadata": {},
   "outputs": [
    {
     "data": {
      "text/plain": [
       "['.ipynb_checkpoints',\n",
       " 'yellow_tripdata_2023-01.parquet',\n",
       " 'yellow_tripdata_2023-02.parquet',\n",
       " 'yellow_tripdata_2023-03.parquet']"
      ]
     },
     "execution_count": 5,
     "metadata": {},
     "output_type": "execute_result"
    }
   ],
   "source": [
    "import os\n",
    "os.listdir(\"TAXI_DATA_FOLDER\")"
   ]
  },
  {
   "cell_type": "code",
   "execution_count": 6,
   "id": "04969043-a904-4d0f-91ff-3ea2d739e394",
   "metadata": {},
   "outputs": [],
   "source": [
    "def read_dataframe(filename: str):\n",
    "    df = pd.read_parquet(filename)\n",
    "\n",
    "    # Handle both yellow and green taxi schema\n",
    "    pickup_col = 'tpep_pickup_datetime' if 'tpep_pickup_datetime' in df.columns else 'lpep_pickup_datetime'\n",
    "    dropoff_col = 'tpep_dropoff_datetime' if 'tpep_dropoff_datetime' in df.columns else 'lpep_dropoff_datetime'\n",
    "\n",
    "    df['duration'] = df[dropoff_col] - df[pickup_col]\n",
    "    df['duration'] = df['duration'].apply(lambda td: td.total_seconds() / 60)\n",
    "\n",
    "    df = df[(df.duration >= 1) & (df.duration <= 60)]\n",
    "\n",
    "    categorical = ['PULocationID', 'DOLocationID']\n",
    "    df[categorical] = df[categorical].astype(str)\n",
    "\n",
    "    return df"
   ]
  },
  {
   "cell_type": "code",
   "execution_count": 7,
   "id": "01e2285c-0753-477d-8dd2-1a15193e5ebf",
   "metadata": {},
   "outputs": [],
   "source": [
    "raw_data_path = \"TAXI_DATA_FOLDER\"\n",
    "dataset=\"yellow\"\n",
    "# df_train = read_dataframe(os.path.join(raw_data_path, f\"{dataset}_tripdata_2023-01.parquet\"))\n",
    "df_val = read_dataframe(os.path.join(raw_data_path, f\"{dataset}_tripdata_2023-02.parquet\"))\n",
    "df_test = read_dataframe(os.path.join(raw_data_path, f\"{dataset}_tripdata_2023-03.parquet\"))"
   ]
  },
  {
   "cell_type": "code",
   "execution_count": 16,
   "id": "d7f9a1e8-0e32-4d75-b895-24b734050807",
   "metadata": {},
   "outputs": [],
   "source": [
    "df_train = read_dataframe(os.path.join(raw_data_path, f\"{dataset}_tripdata_2023-01.parquet\"))"
   ]
  },
  {
   "cell_type": "code",
   "execution_count": 8,
   "id": "3a0d54b4-f220-4a3a-b736-545f0a7bab2e",
   "metadata": {},
   "outputs": [
    {
     "data": {
      "text/plain": [
       "0"
      ]
     },
     "execution_count": 8,
     "metadata": {},
     "output_type": "execute_result"
    }
   ],
   "source": [
    "import gc\n",
    "gc.collect()"
   ]
  },
  {
   "cell_type": "code",
   "execution_count": 17,
   "id": "72d4cd63-4799-4c2c-8a0d-78c8e0f5b346",
   "metadata": {},
   "outputs": [],
   "source": [
    "target = 'duration'\n",
    "y_train = df_train[target].values\n",
    "y_val = df_val[target].values\n",
    "y_test = df_test[target].values"
   ]
  },
  {
   "cell_type": "code",
   "execution_count": 10,
   "id": "34bc4b00-7429-44b9-9e3e-3f90ee5f9da3",
   "metadata": {},
   "outputs": [
    {
     "data": {
      "text/plain": [
       "0"
      ]
     },
     "execution_count": 10,
     "metadata": {},
     "output_type": "execute_result"
    }
   ],
   "source": [
    "import gc\n",
    "gc.collect()"
   ]
  },
  {
   "cell_type": "code",
   "execution_count": 11,
   "id": "c106eb02-6940-425a-8650-895e7dae358d",
   "metadata": {},
   "outputs": [],
   "source": [
    "import os\n",
    "import pickle\n",
    "import pandas as pd\n",
    "from sklearn.feature_extraction import DictVectorizer\n",
    "def dump_pickle(obj, filename: str):\n",
    "    with open(filename, \"wb\") as f_out:\n",
    "        pickle.dump(obj, f_out)"
   ]
  },
  {
   "cell_type": "code",
   "execution_count": 12,
   "id": "76bedcfa-a022-4bcf-8800-fed0ecca8743",
   "metadata": {},
   "outputs": [],
   "source": [
    "dest_path = \"output\"\n",
    "os.makedirs(dest_path, exist_ok=True)"
   ]
  },
  {
   "cell_type": "code",
   "execution_count": 13,
   "id": "9cbe8b5b-e306-41ba-be1e-35b3ed10d8fd",
   "metadata": {},
   "outputs": [],
   "source": [
    "dv = DictVectorizer()"
   ]
  },
  {
   "cell_type": "code",
   "execution_count": null,
   "id": "1650090c-1a7c-46c1-ab0e-ee669b2a0b1f",
   "metadata": {},
   "outputs": [],
   "source": [
    "dump_pickle(dv, os.path.join(dest_path, \"dv.pkl\"))"
   ]
  },
  {
   "cell_type": "code",
   "execution_count": 14,
   "id": "8caca470-2dfe-4390-8822-89ef9967fe0b",
   "metadata": {},
   "outputs": [
    {
     "data": {
      "text/plain": [
       "0"
      ]
     },
     "execution_count": 14,
     "metadata": {},
     "output_type": "execute_result"
    }
   ],
   "source": [
    "import gc\n",
    "gc.collect()"
   ]
  },
  {
   "cell_type": "code",
   "execution_count": 18,
   "id": "2714adea-0795-4a89-b83d-86c1568502b9",
   "metadata": {},
   "outputs": [],
   "source": [
    "df_train['PU_DO'] = df_train['PULocationID'] + '_' + df_train['DOLocationID']\n",
    "categorical = ['PU_DO']\n",
    "numerical = ['trip_distance']\n",
    "dicts = df_train[categorical + numerical].to_dict(orient='records')\n",
    "X_train = dv.fit_transform(dicts)"
   ]
  },
  {
   "cell_type": "code",
   "execution_count": 19,
   "id": "dcb74b42-2a2e-42af-a132-1efd88865f1e",
   "metadata": {},
   "outputs": [
    {
     "data": {
      "text/plain": [
       "0"
      ]
     },
     "execution_count": 19,
     "metadata": {},
     "output_type": "execute_result"
    }
   ],
   "source": [
    "import gc\n",
    "gc.collect()"
   ]
  },
  {
   "cell_type": "code",
   "execution_count": 17,
   "id": "728b9165-e0ff-4c1e-92f5-626a82f54354",
   "metadata": {},
   "outputs": [],
   "source": [
    "dump_pickle((X_train, y_train), os.path.join(dest_path, \"train.pkl\"))"
   ]
  },
  {
   "cell_type": "code",
   "execution_count": null,
   "id": "33792f3d-1ca1-4e5a-863c-a062734a03d5",
   "metadata": {},
   "outputs": [],
   "source": [
    "df_val['PU_DO'] = df_val['PULocationID'] + '_' + df_val['DOLocationID']\n",
    "categorical = ['PU_DO']\n",
    "numerical = ['trip_distance']\n",
    "dicts = df_val[categorical + numerical].to_dict(orient='records')\n",
    "X_val = dv.transform(dicts)"
   ]
  },
  {
   "cell_type": "code",
   "execution_count": null,
   "id": "20e7abb4-f20e-4c48-93f3-00ae1db27b73",
   "metadata": {},
   "outputs": [],
   "source": [
    "dump_pickle((X_val, y_val), os.path.join(dest_path, \"val.pkl\"))"
   ]
  },
  {
   "cell_type": "code",
   "execution_count": null,
   "id": "041b0541-3341-495d-81fa-320d0ae997c3",
   "metadata": {},
   "outputs": [],
   "source": [
    "df_test['PU_DO'] = df_test['PULocationID'] + '_' + df_test['DOLocationID']\n",
    "categorical = ['PU_DO']\n",
    "numerical = ['trip_distance']\n",
    "dicts = df_test[categorical + numerical].to_dict(orient='records')\n",
    "X_test = dv.transform(dicts)"
   ]
  },
  {
   "cell_type": "code",
   "execution_count": null,
   "id": "29cd22f7-ab9e-42df-93c7-1ee03f0f2e52",
   "metadata": {},
   "outputs": [],
   "source": [
    "dump_pickle((X_test, y_test), os.path.join(dest_path, \"test.pkl\"))"
   ]
  },
  {
   "cell_type": "code",
   "execution_count": null,
   "id": "d2fe6b99-9b46-4c07-bebf-26d8dce9bd1d",
   "metadata": {},
   "outputs": [],
   "source": [
    "%load_ext autoreload\n",
    "%autoreload 2\n",
    "import gc\n",
    "gc.collect()\n",
    "from preprocess_data import run_data_prep\n",
    "\n",
    "run_data_prep(\"./TAXI_DATA_FOLDER\", \"./output\", dataset=\"yellow\")\n"
   ]
  },
  {
   "cell_type": "code",
   "execution_count": null,
   "id": "d4e03cbe-38d7-41ef-a9d9-c1a5035401b8",
   "metadata": {},
   "outputs": [],
   "source": [
    "import os\n",
    "\n",
    "print(\"Files in output folder:\", os.listdir(\"./output\"))"
   ]
  },
  {
   "cell_type": "code",
   "execution_count": null,
   "id": "ffe82290-6ada-486d-b6cf-17872409eabd",
   "metadata": {},
   "outputs": [],
   "source": [
    "with mlflow.start_run():\n",
    "    mlflow.set_tag(\"developer\", \"cristian\")\n",
    "    mlflow.log_param(\"train-data-path\", \"./data/green_tripdata_2021-01.csv\")\n",
    "    mlflow.log_param(\"valid-data-path\", \"./data/green_tripdata_2021-02.csv\")\n",
    "    alpha = 0.1\n",
    "    mlflow.log_param(\"alpha\", alpha)\n",
    "    lr = Lasso(alpha)\n",
    "    lr.fit(X_train, y_train)\n",
    "    y_pred = lr.predict(X_val)\n",
    "    rmse = mean_squared_error(y_val, y_pred, squared=False)\n",
    "    mlflow.log_metric(\"rmse\", rmse)\n",
    "    mlflow.log_artifact(local_path=\"models/lin_reg.bin\", artifact_path=\"models_pickle\")"
   ]
  }
 ],
 "metadata": {
  "kernelspec": {
   "display_name": "Python 3 (ipykernel)",
   "language": "python",
   "name": "python3"
  },
  "language_info": {
   "codemirror_mode": {
    "name": "ipython",
    "version": 3
   },
   "file_extension": ".py",
   "mimetype": "text/x-python",
   "name": "python",
   "nbconvert_exporter": "python",
   "pygments_lexer": "ipython3",
   "version": "3.9.21"
  }
 },
 "nbformat": 4,
 "nbformat_minor": 5
}
