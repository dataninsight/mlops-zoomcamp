{
 "cells": [
  {
   "cell_type": "markdown",
   "id": "4cead4d3-c1e1-44ff-aaba-77fd265db1f6",
   "metadata": {},
   "source": [
    "## 02-experiment-tracking"
   ]
  },
  {
   "cell_type": "markdown",
   "id": "35d40af2-12f2-4f81-aa76-817c9e5eb275",
   "metadata": {},
   "source": [
    "#### The goal of this homework is to get familiar with MLflow, the tool for experiment tracking and model management."
   ]
  },
  {
   "cell_type": "code",
   "execution_count": 3,
   "id": "1a193769-360a-4877-b153-cf8482c0425d",
   "metadata": {},
   "outputs": [],
   "source": [
    "#import required dependency\n",
    "import pandas as pd\n",
    "import os\n",
    "import mlflow\n",
    "import numpy as np\n",
    "import sklearn\n",
    "import seaborn as sns\n",
    "import matplotlib.pyplot as plt\n",
    "import pickle\n",
    "from sklearn.feature_extraction import DictVectorizer\n",
    "from sklearn.linear_model import LinearRegression\n",
    "from sklearn.ensemble import RandomForestRegressor\n",
    "from sklearn.metrics import mean_squared_error"
   ]
  },
  {
   "cell_type": "markdown",
   "id": "342a3a5b-006d-41e9-b525-732768ae5faf",
   "metadata": {},
   "source": [
    "#### Q1. Install MLflow"
   ]
  },
  {
   "cell_type": "code",
   "execution_count": 5,
   "id": "46d2843c-5891-4537-9c52-4827be7fea99",
   "metadata": {},
   "outputs": [
    {
     "data": {
      "text/plain": [
       "'2.22.0'"
      ]
     },
     "execution_count": 5,
     "metadata": {},
     "output_type": "execute_result"
    }
   ],
   "source": [
    "mlflow.__version__"
   ]
  },
  {
   "cell_type": "code",
   "execution_count": null,
   "id": "08042119-2940-4634-97e4-31e22c1913ef",
   "metadata": {},
   "outputs": [],
   "source": [
    "#### Q2. Download and preprocess the data"
   ]
  },
  {
   "cell_type": "code",
   "execution_count": null,
   "id": "91f7b34f-4036-423a-abfa-f57aa85d9124",
   "metadata": {},
   "outputs": [],
   "source": []
  }
 ],
 "metadata": {
  "kernelspec": {
   "display_name": "Python 3 (ipykernel)",
   "language": "python",
   "name": "python3"
  },
  "language_info": {
   "codemirror_mode": {
    "name": "ipython",
    "version": 3
   },
   "file_extension": ".py",
   "mimetype": "text/x-python",
   "name": "python",
   "nbconvert_exporter": "python",
   "pygments_lexer": "ipython3",
   "version": "3.9.0"
  }
 },
 "nbformat": 4,
 "nbformat_minor": 5
}
